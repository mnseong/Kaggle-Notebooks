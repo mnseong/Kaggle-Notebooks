{
 "cells": [
  {
   "cell_type": "code",
   "execution_count": 4,
   "metadata": {
    "collapsed": true
   },
   "outputs": [],
   "source": [
    "import numpy as np\n",
    "import pandas as pd\n",
    "from sklearn.ensemble import RandomForestRegressor\n",
    "from sklearn.model_selection import GridSearchCV\n",
    "from sklearn import metrics\n",
    "from datetime import datetime\n",
    "\n",
    "data_path = '/Users/kweonminseong/Documents/git/Kaggle-Notebooks/input/bike-sharing-demand/'\n",
    "\n",
    "train = pd.read_csv(data_path + 'train.csv')\n",
    "test = pd.read_csv(data_path + 'test.csv')\n",
    "submission = pd.read_csv(data_path + 'sampleSubmission.csv')\n",
    "\n",
    "train = train[train['weather']!=4]\n",
    "\n",
    "all_data = pd.concat([train, test], ignore_index=True)\n",
    "all_data['date'] = all_data['datetime'].apply(lambda x: x.split()[0])\n",
    "all_data['year'] = all_data['datetime'].apply(lambda x: x.split()[0].split('-')[0])\n",
    "all_data['month'] = all_data['datetime'].apply(lambda x: x.split()[0].split('-')[1])\n",
    "all_data['hour'] = all_data['datetime'].apply(lambda x: x.split()[1].split(':')[0])\n",
    "all_data[\"weekday\"] = all_data['date'].apply(lambda dateString: datetime.strptime(dateString, \"%Y-%m-%d\").weekday())\n",
    "\n",
    "drop_features = ['casual', 'registered', 'datetime', 'date', 'windspeed', 'month']\n",
    "all_data = all_data.drop(drop_features, axis=1)\n",
    "\n",
    "X_train = all_data[~pd.isnull(all_data['count'])]\n",
    "X_test = all_data[pd.isnull(all_data['count'])]\n",
    "\n",
    "X_train = X_train.drop(['count'], axis=1)\n",
    "X_test = X_test.drop(['count'], axis=1)\n",
    "\n",
    "y = train['count']"
   ]
  },
  {
   "cell_type": "code",
   "execution_count": 5,
   "outputs": [],
   "source": [
    "def rmsle(y_true: int, y_pred: int, convert_exp=True) -> float:\n",
    "    if convert_exp:\n",
    "        y_true = np.exp(y_true)\n",
    "        y_pred = np.exp(y_pred)\n",
    "\n",
    "    log_true = np.nan_to_num(np.log(y_true+1))\n",
    "    log_pred = np.nan_to_num(np.log(y_pred+1))\n",
    "\n",
    "    output = np.sqrt(np.mean((log_true-log_pred)**2))\n",
    "    return output\n",
    "\n",
    "rmsle_scorer = metrics.make_scorer(rmsle, greater_is_better=False)"
   ],
   "metadata": {
    "collapsed": false
   }
  },
  {
   "cell_type": "code",
   "execution_count": 6,
   "outputs": [
    {
     "name": "stdout",
     "output_type": "stream",
     "text": [
      "Hyperparameter :  {'n_estimators': 140, 'random_state': 42}\n"
     ]
    }
   ],
   "source": [
    "random_forest_model = RandomForestRegressor()\n",
    "\n",
    "# Create Grid Search object\n",
    "rf_params = {'random_state':[42], 'n_estimators':[100, 120, 140]}\n",
    "gridsearch_random_forest_model = GridSearchCV(estimator=random_forest_model,\n",
    "                                              param_grid=rf_params,\n",
    "                                              scoring=rmsle_scorer,\n",
    "                                              cv=5)\n",
    "\n",
    "log_y = np.log(y)\n",
    "gridsearch_random_forest_model.fit(X_train, log_y)\n",
    "print('Hyperparameter : ', gridsearch_random_forest_model.best_params_)"
   ],
   "metadata": {
    "collapsed": false
   }
  },
  {
   "cell_type": "code",
   "execution_count": 7,
   "outputs": [
    {
     "name": "stdout",
     "output_type": "stream",
     "text": [
      "RMSLE of Random Forest Regression : 0.1127\n"
     ]
    }
   ],
   "source": [
    "preds = gridsearch_random_forest_model.best_estimator_.predict(X_train)\n",
    "print(f'RMSLE of Random Forest Regression : {rmsle(log_y, preds, True):.4f}')"
   ],
   "metadata": {
    "collapsed": false
   }
  },
  {
   "cell_type": "code",
   "execution_count": 8,
   "outputs": [],
   "source": [
    "randomforest_preds = gridsearch_random_forest_model.best_estimator_.predict(X_test)\n",
    "\n",
    "submission['count'] = np.exp(randomforest_preds)\n",
    "submission.to_csv('submission.csv', index=False)"
   ],
   "metadata": {
    "collapsed": false
   }
  },
  {
   "cell_type": "code",
   "execution_count": null,
   "outputs": [],
   "source": [],
   "metadata": {
    "collapsed": false
   }
  }
 ],
 "metadata": {
  "kernelspec": {
   "display_name": "Python 3",
   "language": "python",
   "name": "python3"
  },
  "language_info": {
   "codemirror_mode": {
    "name": "ipython",
    "version": 2
   },
   "file_extension": ".py",
   "mimetype": "text/x-python",
   "name": "python",
   "nbconvert_exporter": "python",
   "pygments_lexer": "ipython2",
   "version": "2.7.6"
  }
 },
 "nbformat": 4,
 "nbformat_minor": 0
}
