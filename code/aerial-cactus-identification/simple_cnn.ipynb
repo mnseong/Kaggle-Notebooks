{
 "cells": [
  {
   "cell_type": "code",
   "execution_count": 5,
   "metadata": {
    "collapsed": true
   },
   "outputs": [
    {
     "name": "stdout",
     "output_type": "stream",
     "text": [
      "device : mps\n"
     ]
    }
   ],
   "source": [
    "import os\n",
    "import torch\n",
    "import torch.nn as nn\n",
    "import torch.nn.functional as F\n",
    "import numpy as np\n",
    "import pandas as pd\n",
    "import math\n",
    "import random\n",
    "import cv2\n",
    "from sklearn.model_selection import train_test_split\n",
    "from sklearn.metrics import roc_auc_score\n",
    "from torchvision import transforms\n",
    "from torch.utils.data import Dataset\n",
    "from torch.utils.data import DataLoader\n",
    "import shutil\n",
    "\n",
    "# 시드값 고정\n",
    "seed = 50\n",
    "os.environ['PYTHONHASHSEED'] = str(seed)\n",
    "random.seed(seed)\n",
    "np.random.seed(seed)\n",
    "torch.manual_seed(seed)\n",
    "\n",
    "device = torch.device(\"mps\") if torch.backends.mps.is_available() else \"cpu\"\n",
    "print(f\"device : {device}\")"
   ]
  },
  {
   "cell_type": "code",
   "execution_count": 9,
   "outputs": [],
   "source": [
    "data_path = '/Users/kweonminseong/Documents/git/Kaggle-Notebooks/input/aerial-cactus-identification/'\n",
    "\n",
    "labels = pd.read_csv(data_path + 'train.csv')\n",
    "submission = pd.read_csv(data_path + 'sample_submission.csv')\n",
    "\n",
    "train_path = '/Users/kweonminseong/Documents/git/Kaggle-Notebooks/input/aerial-cactus-identification/train/'\n",
    "test_path = '/Users/kweonminseong/Documents/git/Kaggle-Notebooks/input/aerial-cactus-identification/test/'"
   ],
   "metadata": {
    "collapsed": false
   }
  },
  {
   "cell_type": "code",
   "execution_count": 10,
   "outputs": [],
   "source": [
    "train, valid = train_test_split(labels, test_size=0.1, stratify=labels['has_cactus'], random_state=50)"
   ],
   "metadata": {
    "collapsed": false
   }
  },
  {
   "cell_type": "code",
   "execution_count": 11,
   "outputs": [],
   "source": [
    "class ImageDataset(Dataset):\n",
    "    def __init__(self, df, img_dir='./', transform=None):\n",
    "        super().__init__()\n",
    "        self.df=df\n",
    "        self.img_dir=img_dir\n",
    "        self.transform=transform\n",
    "\n",
    "    def __len__(self):\n",
    "        return len(self.df)\n",
    "\n",
    "    def __getitem__(self, idx):\n",
    "        img_id = self.df.iloc[idx, 0]\n",
    "        img_path = self.img_dir + img_id\n",
    "        image = cv2.imread(img_path)\n",
    "        image = cv2.cvtColor(image, cv2.COLOR_BGR2RGB)\n",
    "        label = self.df.iloc[idx, 1]\n",
    "\n",
    "        if self.transform is not None:\n",
    "            image = self.transform(image)\n",
    "        return image, label"
   ],
   "metadata": {
    "collapsed": false
   }
  },
  {
   "cell_type": "code",
   "execution_count": 16,
   "outputs": [],
   "source": [
    "transform = transforms.ToTensor()\n",
    "\n",
    "dataset_train = ImageDataset(df=train, img_dir=train_path, transform=transform)\n",
    "dataset_valid = ImageDataset(df=valid, img_dir=train_path, transform=transform)\n",
    "\n",
    "loader_train = DataLoader(dataset=dataset_train, batch_size=32, shuffle=True)\n",
    "loader_valid = DataLoader(dataset=dataset_valid, batch_size=32, shuffle=False)"
   ],
   "metadata": {
    "collapsed": false
   }
  },
  {
   "cell_type": "code",
   "execution_count": 17,
   "outputs": [],
   "source": [
    "class Model(nn.Module):\n",
    "    # 신경망 계층 정의\n",
    "    def __init__(self):\n",
    "        super().__init__() # 상속받은 nn.Module의 __init__() 메서드 호출\n",
    "\n",
    "        # 첫 번째 합성곱 계층\n",
    "        self.conv1 = nn.Conv2d(in_channels=3, out_channels=32,\n",
    "                               kernel_size=3, padding=2)\n",
    "        # 두 번째 합성곱 계층\n",
    "        self.conv2 = nn.Conv2d(in_channels=32, out_channels=64,\n",
    "                               kernel_size=3, padding=2)\n",
    "        # 최대 풀링 계층\n",
    "        self.max_pool = nn.MaxPool2d(kernel_size=2)\n",
    "        # 평균 풀링 계층\n",
    "        self.avg_pool = nn.AvgPool2d(kernel_size=2)\n",
    "        # 전결합 계층\n",
    "        self.fc = nn.Linear(in_features=64 * 4 * 4, out_features=2)\n",
    "\n",
    "    # 순전파 출력 정의\n",
    "    def forward(self, x):\n",
    "        x = self.max_pool(F.relu(self.conv1(x)))\n",
    "        x = self.max_pool(F.relu(self.conv2(x)))\n",
    "        x = self.avg_pool(x)\n",
    "        x = x.view(-1, 64 * 4 * 4) # 평탄화\n",
    "        x = self.fc(x)\n",
    "        return x"
   ],
   "metadata": {
    "collapsed": false
   }
  },
  {
   "cell_type": "code",
   "execution_count": 18,
   "outputs": [
    {
     "data": {
      "text/plain": "Model(\n  (conv1): Conv2d(3, 32, kernel_size=(3, 3), stride=(1, 1), padding=(2, 2))\n  (conv2): Conv2d(32, 64, kernel_size=(3, 3), stride=(1, 1), padding=(2, 2))\n  (max_pool): MaxPool2d(kernel_size=2, stride=2, padding=0, dilation=1, ceil_mode=False)\n  (avg_pool): AvgPool2d(kernel_size=2, stride=2, padding=0)\n  (fc): Linear(in_features=1024, out_features=2, bias=True)\n)"
     },
     "execution_count": 18,
     "metadata": {},
     "output_type": "execute_result"
    }
   ],
   "source": [
    "model = Model().to(device)\n",
    "model"
   ],
   "metadata": {
    "collapsed": false
   }
  },
  {
   "cell_type": "code",
   "execution_count": 19,
   "outputs": [],
   "source": [
    "criterion = nn.CrossEntropyLoss()\n",
    "optimizer = torch.optim.SGD(model.parameters(), lr=0.01)"
   ],
   "metadata": {
    "collapsed": false
   }
  },
  {
   "cell_type": "code",
   "execution_count": 20,
   "outputs": [
    {
     "name": "stdout",
     "output_type": "stream",
     "text": [
      "에폭 [1/100] - 손실값: 0.5202\n",
      "에폭 [2/100] - 손실값: 0.3492\n",
      "에폭 [3/100] - 손실값: 0.2544\n",
      "에폭 [4/100] - 손실값: 0.2097\n",
      "에폭 [5/100] - 손실값: 0.1801\n",
      "에폭 [6/100] - 손실값: 0.1651\n",
      "에폭 [7/100] - 손실값: 0.1513\n",
      "에폭 [8/100] - 손실값: 0.1389\n",
      "에폭 [9/100] - 손실값: 0.1359\n",
      "에폭 [10/100] - 손실값: 0.1246\n",
      "에폭 [11/100] - 손실값: 0.1217\n",
      "에폭 [12/100] - 손실값: 0.1186\n",
      "에폭 [13/100] - 손실값: 0.1105\n",
      "에폭 [14/100] - 손실값: 0.1109\n",
      "에폭 [15/100] - 손실값: 0.1081\n",
      "에폭 [16/100] - 손실값: 0.1055\n",
      "에폭 [17/100] - 손실값: 0.1054\n",
      "에폭 [18/100] - 손실값: 0.1029\n",
      "에폭 [19/100] - 손실값: 0.1020\n",
      "에폭 [20/100] - 손실값: 0.0999\n",
      "에폭 [21/100] - 손실값: 0.0972\n",
      "에폭 [22/100] - 손실값: 0.0973\n",
      "에폭 [23/100] - 손실값: 0.0973\n",
      "에폭 [24/100] - 손실값: 0.0946\n",
      "에폭 [25/100] - 손실값: 0.0927\n",
      "에폭 [26/100] - 손실값: 0.0925\n",
      "에폭 [27/100] - 손실값: 0.0921\n",
      "에폭 [28/100] - 손실값: 0.0902\n",
      "에폭 [29/100] - 손실값: 0.0901\n",
      "에폭 [30/100] - 손실값: 0.0898\n",
      "에폭 [31/100] - 손실값: 0.0880\n",
      "에폭 [32/100] - 손실값: 0.0871\n",
      "에폭 [33/100] - 손실값: 0.0874\n",
      "에폭 [34/100] - 손실값: 0.0841\n",
      "에폭 [35/100] - 손실값: 0.0843\n",
      "에폭 [36/100] - 손실값: 0.0821\n",
      "에폭 [37/100] - 손실값: 0.0833\n",
      "에폭 [38/100] - 손실값: 0.0809\n",
      "에폭 [39/100] - 손실값: 0.0827\n",
      "에폭 [40/100] - 손실값: 0.0803\n",
      "에폭 [41/100] - 손실값: 0.0805\n",
      "에폭 [42/100] - 손실값: 0.0798\n",
      "에폭 [43/100] - 손실값: 0.0778\n",
      "에폭 [44/100] - 손실값: 0.0780\n",
      "에폭 [45/100] - 손실값: 0.0775\n",
      "에폭 [46/100] - 손실값: 0.0783\n",
      "에폭 [47/100] - 손실값: 0.0781\n",
      "에폭 [48/100] - 손실값: 0.0770\n",
      "에폭 [49/100] - 손실값: 0.0766\n",
      "에폭 [50/100] - 손실값: 0.0752\n",
      "에폭 [51/100] - 손실값: 0.0752\n",
      "에폭 [52/100] - 손실값: 0.0762\n",
      "에폭 [53/100] - 손실값: 0.0725\n",
      "에폭 [54/100] - 손실값: 0.0739\n",
      "에폭 [55/100] - 손실값: 0.0732\n",
      "에폭 [56/100] - 손실값: 0.0727\n",
      "에폭 [57/100] - 손실값: 0.0705\n",
      "에폭 [58/100] - 손실값: 0.0713\n",
      "에폭 [59/100] - 손실값: 0.0732\n",
      "에폭 [60/100] - 손실값: 0.0695\n",
      "에폭 [61/100] - 손실값: 0.0692\n",
      "에폭 [62/100] - 손실값: 0.0672\n",
      "에폭 [63/100] - 손실값: 0.0689\n",
      "에폭 [64/100] - 손실값: 0.0707\n",
      "에폭 [65/100] - 손실값: 0.0674\n",
      "에폭 [66/100] - 손실값: 0.0654\n",
      "에폭 [67/100] - 손실값: 0.0659\n",
      "에폭 [68/100] - 손실값: 0.0699\n",
      "에폭 [69/100] - 손실값: 0.0664\n",
      "에폭 [70/100] - 손실값: 0.0671\n",
      "에폭 [71/100] - 손실값: 0.0641\n",
      "에폭 [72/100] - 손실값: 0.0655\n",
      "에폭 [73/100] - 손실값: 0.0633\n",
      "에폭 [74/100] - 손실값: 0.0649\n",
      "에폭 [75/100] - 손실값: 0.0653\n",
      "에폭 [76/100] - 손실값: 0.0651\n",
      "에폭 [77/100] - 손실값: 0.0628\n",
      "에폭 [78/100] - 손실값: 0.0610\n",
      "에폭 [79/100] - 손실값: 0.0609\n",
      "에폭 [80/100] - 손실값: 0.0601\n",
      "에폭 [81/100] - 손실값: 0.0640\n",
      "에폭 [82/100] - 손실값: 0.0620\n",
      "에폭 [83/100] - 손실값: 0.0618\n",
      "에폭 [84/100] - 손실값: 0.0587\n",
      "에폭 [85/100] - 손실값: 0.0598\n",
      "에폭 [86/100] - 손실값: 0.0598\n",
      "에폭 [87/100] - 손실값: 0.0605\n",
      "에폭 [88/100] - 손실값: 0.0588\n",
      "에폭 [89/100] - 손실값: 0.0582\n",
      "에폭 [90/100] - 손실값: 0.0577\n",
      "에폭 [91/100] - 손실값: 0.0576\n",
      "에폭 [92/100] - 손실값: 0.0563\n",
      "에폭 [93/100] - 손실값: 0.0569\n",
      "에폭 [94/100] - 손실값: 0.0556\n",
      "에폭 [95/100] - 손실값: 0.0567\n",
      "에폭 [96/100] - 손실값: 0.0564\n",
      "에폭 [97/100] - 손실값: 0.0545\n",
      "에폭 [98/100] - 손실값: 0.0573\n",
      "에폭 [99/100] - 손실값: 0.0546\n",
      "에폭 [100/100] - 손실값: 0.0538\n"
     ]
    }
   ],
   "source": [
    "epochs = 100\n",
    "\n",
    "for epoch in range(epochs):\n",
    "    epoch_loss = 0 # epoch별 손실값 초기화\n",
    "\n",
    "    # '반복 횟수' 만큼 반복\n",
    "    for images, labels in loader_train:\n",
    "        # img, labels data mini batch 할당\n",
    "        images = images.to(device)\n",
    "        labels = labels.to(device)\n",
    "\n",
    "        # optimizer 내의 기울기 초기화\n",
    "        optimizer.zero_grad()\n",
    "        # 순전파 : 이미지 데이터를 신경망 모델의 입력값으로 사용해 출력값 계산\n",
    "        outputs = model(images)\n",
    "        # 손실 함수를 활용해 outputs와 labels 의 손실값 계산\n",
    "        loss = criterion(outputs, labels)\n",
    "        # 현재 배치에서의 손실 추가\n",
    "        epoch_loss += loss.item()\n",
    "        # 역전파 수행\n",
    "        loss.backward()\n",
    "        # 가중치 갱신\n",
    "        optimizer.step()\n",
    "\n",
    "    # 훈련 데이터 손실값 출력\n",
    "    print(f'에폭 [{epoch+1}/{epochs}] - 손실값: {epoch_loss/len(loader_train):.4f}')"
   ],
   "metadata": {
    "collapsed": false
   }
  },
  {
   "cell_type": "code",
   "execution_count": 21,
   "outputs": [
    {
     "name": "stdout",
     "output_type": "stream",
     "text": [
      "검증 데이터 ROC AUC : 0.9968\n"
     ]
    }
   ],
   "source": [
    "# 모델 검증\n",
    "true_list = []\n",
    "preds_list = []\n",
    "\n",
    "model.eval() # 모델을 평가 상태로 설정\n",
    "\n",
    "with torch.no_grad(): # 기울기 계산 비활성화\n",
    "    for images, labels in loader_valid:\n",
    "        # 이미지, 레이블 데이터 미니배치를 장비에 할당\n",
    "        images = images.to(device)\n",
    "        labels = labels.to(device)\n",
    "\n",
    "        # 순전파 : 이미지 데이터를 신경망 모델의 입력값으로 사용해 출력값 계산\n",
    "        outputs = model(images)\n",
    "        preds = torch.softmax(outputs.cpu(), dim=1)[:, 1] # 예측 확률\n",
    "        true = labels.cpu() # 실제값\n",
    "        # 예측 확률과 실제값을 리스트에 추가\n",
    "        preds_list.extend(preds)\n",
    "        true_list.extend(true)\n",
    "\n",
    "# 검증 데이터 ROC AUC 점수 계산\n",
    "print(f'검증 데이터 ROC AUC : {roc_auc_score(true_list, preds_list):.4f}')"
   ],
   "metadata": {
    "collapsed": false
   }
  },
  {
   "cell_type": "code",
   "execution_count": 22,
   "outputs": [],
   "source": [
    "dataset_test = ImageDataset(df=submission, img_dir=test_path, transform=transform)\n",
    "loader_test = DataLoader(dataset=dataset_test, batch_size=32, shuffle=False)\n",
    "\n",
    "model.eval() # 모델을 평가 상태로 설정\n",
    "\n",
    "preds = [] # 타깃 예측값 저장용 리스트 초기화\n",
    "\n",
    "with torch.no_grad(): # 기울기 계산 비활성화\n",
    "    for images, _ in loader_test:\n",
    "        # 이미지 데이터 미니배치를 장비에 할당\n",
    "        images = images.to(device)\n",
    "\n",
    "        # 순전파 : 이미지 데이터를 신경망 모델의 입력값으로 사용해 출력값 계산\n",
    "        outputs = model(images)\n",
    "        # 타깃값이 1일 확률(예측값)\n",
    "        preds_part = torch.softmax(outputs.cpu(), dim=1)[:, 1].tolist()\n",
    "        # preds에 preds_part 이어붙이기\n",
    "        preds.extend(preds_part)"
   ],
   "metadata": {
    "collapsed": false
   }
  },
  {
   "cell_type": "code",
   "execution_count": 23,
   "outputs": [],
   "source": [
    "submission['has_cactus'] = preds\n",
    "submission.to_csv('submission.csv', index=False)"
   ],
   "metadata": {
    "collapsed": false
   }
  },
  {
   "cell_type": "code",
   "execution_count": null,
   "outputs": [],
   "source": [],
   "metadata": {
    "collapsed": false
   }
  }
 ],
 "metadata": {
  "kernelspec": {
   "display_name": "Python 3",
   "language": "python",
   "name": "python3"
  },
  "language_info": {
   "codemirror_mode": {
    "name": "ipython",
    "version": 2
   },
   "file_extension": ".py",
   "mimetype": "text/x-python",
   "name": "python",
   "nbconvert_exporter": "python",
   "pygments_lexer": "ipython2",
   "version": "2.7.6"
  }
 },
 "nbformat": 4,
 "nbformat_minor": 0
}
